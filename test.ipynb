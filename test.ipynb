{
 "cells": [
  {
   "cell_type": "code",
   "execution_count": 1,
   "id": "9f417871",
   "metadata": {},
   "outputs": [],
   "source": [
    "import time\n",
    "import torch\n",
    "from torch import nn\n",
    "from torch.utils.data import DataLoader\n",
    "from torchvision import datasets\n",
    "from torchvision import transforms\n",
    "from torchvision.transforms import ToTensor\n",
    "\n",
    "from torch.utils.tensorboard import SummaryWriter\n",
    "writer = SummaryWriter(log_dir=f\"runs/mnist_training{int(time.time())}\")\n",
    "\n",
    "import torch.nn.functional as F\n",
    "\n",
    "transform = transforms.Compose([\n",
    "    transforms.RandomRotation(10),\n",
    "    transforms.RandomAffine(0, translate=(0.1, 0.1)),\n",
    "    transforms.RandomPerspective(distortion_scale=0.1, p=0.2),\n",
    "    transforms.RandomAffine(\n",
    "        degrees=10,          # rotation légère\n",
    "        translate=(0.1, 0.1),# petits décalages\n",
    "        scale=(0.9, 1.1)     # zoom léger\n",
    "    ),\n",
    "    transforms.ToTensor(),\n",
    "    transforms.Normalize((0.1307,), (0.3081,))\n",
    "])"
   ]
  },
  {
   "cell_type": "code",
   "execution_count": 2,
   "id": "c96f8df5",
   "metadata": {},
   "outputs": [],
   "source": [
    "training_data = datasets.MNIST(\n",
    "    root=\"data\",\n",
    "    train=True,\n",
    "    download=True,\n",
    "    transform=transform,\n",
    ")\n",
    "\n",
    "test_data = datasets.MNIST(\n",
    "    root=\"data\",\n",
    "    train=False,\n",
    "    download=True,\n",
    "    transform=transform,\n",
    ")"
   ]
  },
  {
   "cell_type": "code",
   "execution_count": 3,
   "id": "f548a96e",
   "metadata": {},
   "outputs": [
    {
     "name": "stdout",
     "output_type": "stream",
     "text": [
      "Shape of X [N, C, H, W]: torch.Size([64, 1, 28, 28])\n",
      "Shape of y: torch.Size([64]) torch.int64\n"
     ]
    }
   ],
   "source": [
    "batch_size = 64\n",
    "\n",
    "train_dataloader = DataLoader(training_data, batch_size=batch_size)\n",
    "test_dataloader = DataLoader(test_data, batch_size=batch_size)\n",
    "\n",
    "for X, y in test_dataloader:\n",
    "    print(f\"Shape of X [N, C, H, W]: {X.shape}\")\n",
    "    print(f\"Shape of y: {y.shape} {y.dtype}\")\n",
    "    break"
   ]
  },
  {
   "cell_type": "code",
   "execution_count": 4,
   "id": "73338037",
   "metadata": {},
   "outputs": [
    {
     "name": "stdout",
     "output_type": "stream",
     "text": [
      "Using cpu device\n",
      "NumberCNN(\n",
      "  (conv1): Conv2d(1, 32, kernel_size=(3, 3), stride=(1, 1), padding=(1, 1))\n",
      "  (pool): MaxPool2d(kernel_size=2, stride=2, padding=0, dilation=1, ceil_mode=False)\n",
      "  (conv2): Conv2d(32, 64, kernel_size=(3, 3), stride=(1, 1), padding=(1, 1))\n",
      "  (fc1): Linear(in_features=3136, out_features=128, bias=True)\n",
      "  (fc2): Linear(in_features=128, out_features=128, bias=True)\n",
      "  (fc3): Linear(in_features=128, out_features=10, bias=True)\n",
      ")\n"
     ]
    }
   ],
   "source": [
    "device = torch.accelerator.current_accelerator().type if torch.accelerator.is_available() else \"cpu\"\n",
    "print(f\"Using {device} device\")\n",
    "\n",
    "class NumberCNN(nn.Module):\n",
    "    def __init__(self):\n",
    "        super(NumberCNN, self).__init__()\n",
    "        self.conv1 = nn.Conv2d(1, 32, kernel_size=3, padding=1)\n",
    "        self.pool = nn.MaxPool2d(2, 2)\n",
    "        self.conv2 = nn.Conv2d(32, 64, kernel_size=3, padding=1)\n",
    "\n",
    "        self.fc1 = nn.Linear(64 * 7 * 7, 128)\n",
    "        self.fc2 = nn.Linear(128, 128)\n",
    "        self.fc3 = nn.Linear(128, 10)\n",
    "\n",
    "    def forward(self, x):\n",
    "        x = self.pool(F.relu(self.conv1(x)))\n",
    "        x = self.pool(F.relu(self.conv2(x)))\n",
    "        x = x.view(-1, 64 * 7 * 7)\n",
    "        x = F.relu(self.fc1(x))\n",
    "        x = F.dropout(x, 0.2, training=self.training)\n",
    "        x = F.relu(self.fc2(x))\n",
    "        x = F.dropout(x, 0.2, training=self.training)   \n",
    "        x = self.fc3(x)\n",
    "        return x\n",
    "\n",
    "model = NumberCNN().to(device)\n",
    "print(model)"
   ]
  },
  {
   "cell_type": "code",
   "execution_count": 5,
   "id": "9b9a0db4",
   "metadata": {},
   "outputs": [],
   "source": [
    "loss_fn = nn.CrossEntropyLoss(label_smoothing=0.1)\n",
    "optimizer = torch.optim.AdamW(model.parameters(), lr=1e-3)"
   ]
  },
  {
   "cell_type": "code",
   "execution_count": 6,
   "id": "3cb00bd4",
   "metadata": {},
   "outputs": [],
   "source": [
    "def train(dataloader, model, loss_fn, optimizer, epoch):\n",
    "    size = len(dataloader.dataset)\n",
    "    model.train()\n",
    "    for batch, (X, y) in enumerate(dataloader):\n",
    "        X, y = X.to(device), y.to(device)\n",
    "\n",
    "        pred = model(X)\n",
    "        loss = loss_fn(pred, y)\n",
    "\n",
    "        loss.backward()\n",
    "        optimizer.step()\n",
    "        optimizer.zero_grad()\n",
    "        \n",
    "        step = epoch * len(dataloader) + batch\n",
    "        writer.add_scalar(\"Loss/train\", loss.item(), step)\n",
    "\n",
    "        if batch % 100 == 0:\n",
    "            loss_value, current = loss.item(), (batch + 1) * len(X)\n",
    "            print(f\"loss: {loss_value:>7f}  [{current:>5d}/{size:>5d}]\")\n"
   ]
  },
  {
   "cell_type": "code",
   "execution_count": 7,
   "id": "c8e97726",
   "metadata": {},
   "outputs": [],
   "source": [
    "accuracies = []"
   ]
  },
  {
   "cell_type": "code",
   "execution_count": 8,
   "id": "54efda1a",
   "metadata": {},
   "outputs": [],
   "source": [
    "def test(dataloader, model, loss_fn, epoch):\n",
    "    size = len(dataloader.dataset)\n",
    "    num_batches = len(dataloader)\n",
    "    model.eval()\n",
    "    test_loss, correct = 0, 0\n",
    "\n",
    "    with torch.no_grad():\n",
    "        for X, y in dataloader:\n",
    "            X, y = X.to(device), y.to(device)\n",
    "            pred = model(X)\n",
    "            test_loss += loss_fn(pred, y).item()\n",
    "            correct += (pred.argmax(1) == y).type(torch.float).sum().item()\n",
    "\n",
    "    accuracy = correct / size\n",
    "\n",
    "    writer.add_scalar(\"Accuracy/test\", accuracy, epoch)\n",
    "\n",
    "    print(f\"Test Error: \\n Accuracy: {(100*accuracy):>0.1f}%, Avg loss: {test_loss:>8f} \\n\")\n",
    "    accuracies.append(accuracy)"
   ]
  },
  {
   "cell_type": "code",
   "execution_count": 9,
   "id": "c067ce13",
   "metadata": {},
   "outputs": [
    {
     "name": "stdout",
     "output_type": "stream",
     "text": [
      "Epoch 1\n",
      "-------------------------------\n",
      "loss: 2.297819  [   64/60000]\n",
      "loss: 1.110272  [ 6464/60000]\n",
      "loss: 0.889268  [12864/60000]\n",
      "loss: 0.833503  [19264/60000]\n",
      "loss: 0.670485  [25664/60000]\n",
      "loss: 0.729526  [32064/60000]\n",
      "loss: 0.725800  [38464/60000]\n",
      "loss: 0.767556  [44864/60000]\n",
      "loss: 0.805404  [51264/60000]\n",
      "loss: 0.758030  [57664/60000]\n",
      "Test Error: \n",
      " Accuracy: 96.1%, Avg loss: 101.002086 \n",
      "\n",
      "Epoch 2\n",
      "-------------------------------\n",
      "loss: 0.666241  [   64/60000]\n",
      "loss: 0.682703  [ 6464/60000]\n",
      "loss: 0.636461  [12864/60000]\n",
      "loss: 0.684407  [19264/60000]\n",
      "loss: 0.723644  [25664/60000]\n",
      "loss: 0.648058  [32064/60000]\n",
      "loss: 0.733075  [38464/60000]\n",
      "loss: 0.672697  [44864/60000]\n",
      "loss: 0.767419  [51264/60000]\n",
      "loss: 0.701180  [57664/60000]\n",
      "Test Error: \n",
      " Accuracy: 96.8%, Avg loss: 96.146385 \n",
      "\n",
      "Epoch 3\n",
      "-------------------------------\n",
      "loss: 0.638540  [   64/60000]\n",
      "loss: 0.660268  [ 6464/60000]\n",
      "loss: 0.676413  [12864/60000]\n",
      "loss: 0.702726  [19264/60000]\n",
      "loss: 0.660847  [25664/60000]\n",
      "loss: 0.647691  [32064/60000]\n",
      "loss: 0.676179  [38464/60000]\n",
      "loss: 0.699916  [44864/60000]\n",
      "loss: 0.693264  [51264/60000]\n",
      "loss: 0.647759  [57664/60000]\n",
      "Test Error: \n",
      " Accuracy: 97.6%, Avg loss: 92.350787 \n",
      "\n",
      "Epoch 4\n",
      "-------------------------------\n",
      "loss: 0.604247  [   64/60000]\n",
      "loss: 0.619802  [ 6464/60000]\n",
      "loss: 0.640430  [12864/60000]\n",
      "loss: 0.601668  [19264/60000]\n",
      "loss: 0.609002  [25664/60000]\n",
      "loss: 0.618784  [32064/60000]\n",
      "loss: 0.617225  [38464/60000]\n",
      "loss: 0.687817  [44864/60000]\n",
      "loss: 0.697792  [51264/60000]\n",
      "loss: 0.619718  [57664/60000]\n",
      "Test Error: \n",
      " Accuracy: 97.7%, Avg loss: 90.253122 \n",
      "\n",
      "Epoch 5\n",
      "-------------------------------\n",
      "loss: 0.570071  [   64/60000]\n",
      "loss: 0.664204  [ 6464/60000]\n",
      "loss: 0.608748  [12864/60000]\n",
      "loss: 0.590614  [19264/60000]\n",
      "loss: 0.581461  [25664/60000]\n",
      "loss: 0.602399  [32064/60000]\n",
      "loss: 0.632701  [38464/60000]\n",
      "loss: 0.625747  [44864/60000]\n",
      "loss: 0.624007  [51264/60000]\n",
      "loss: 0.580820  [57664/60000]\n",
      "Test Error: \n",
      " Accuracy: 97.8%, Avg loss: 89.122130 \n",
      "\n",
      "Done!\n"
     ]
    }
   ],
   "source": [
    "epochs = 5\n",
    "for t in range(epochs):\n",
    "    print(f\"Epoch {t+1}\\n-------------------------------\")\n",
    "    train(train_dataloader, model, loss_fn, optimizer, t)\n",
    "    test(test_dataloader, model, loss_fn, t)\n",
    "writer.close()\n",
    "print(\"Done!\")"
   ]
  },
  {
   "cell_type": "code",
   "execution_count": 10,
   "id": "d11bf294",
   "metadata": {},
   "outputs": [
    {
     "name": "stdout",
     "output_type": "stream",
     "text": [
      "Saved PyTorch Model State to model.pth\n"
     ]
    }
   ],
   "source": [
    "torch.save(model.state_dict(), \"model.pth\")\n",
    "print(\"Saved PyTorch Model State to model.pth\")"
   ]
  },
  {
   "cell_type": "code",
   "execution_count": 11,
   "id": "d329b97c",
   "metadata": {},
   "outputs": [
    {
     "data": {
      "text/plain": [
       "<All keys matched successfully>"
      ]
     },
     "execution_count": 11,
     "metadata": {},
     "output_type": "execute_result"
    }
   ],
   "source": [
    "model = NumberCNN().to(device)\n",
    "model.load_state_dict(torch.load(\"model.pth\", weights_only=True))"
   ]
  },
  {
   "cell_type": "code",
   "execution_count": 12,
   "id": "2c73545a",
   "metadata": {},
   "outputs": [
    {
     "name": "stdout",
     "output_type": "stream",
     "text": [
      "Predicted: \"Seven\", Actual: \"Seven\"\n"
     ]
    }
   ],
   "source": [
    "classes = [\n",
    "    \"Zero\",\n",
    "    \"One\",\n",
    "    \"Two\",\n",
    "    \"Three\",\n",
    "    \"Four\",\n",
    "    \"Five\",\n",
    "    \"Six\",\n",
    "    \"Seven\",\n",
    "    \"Eight\",\n",
    "    \"Nine\",\n",
    "]\n",
    "\n",
    "model.eval()\n",
    "x, y = test_data[0][0], test_data[0][1]\n",
    "with torch.no_grad():\n",
    "    x = x.to(device)\n",
    "    pred = model(x)\n",
    "    predicted, actual = classes[pred[0].argmax(0)], classes[y]\n",
    "    print(f'Predicted: \"{predicted}\", Actual: \"{actual}\"')"
   ]
  },
  {
   "cell_type": "code",
   "execution_count": 13,
   "id": "1a1714fd",
   "metadata": {},
   "outputs": [
    {
     "name": "stdout",
     "output_type": "stream",
     "text": [
      "Moyenne des accuracies test sur 5 époques : 0.9719\n",
      "Médiane des accuracies test : 0.9758\n",
      "Done!\n"
     ]
    }
   ],
   "source": [
    "import statistics\n",
    "\n",
    "mean_acc = statistics.mean(accuracies)\n",
    "median_acc = statistics.median(accuracies)\n",
    "\n",
    "print(f\"Moyenne des accuracies test sur {epochs} époques : {mean_acc:.4f}\")\n",
    "print(f\"Médiane des accuracies test : {median_acc:.4f}\")\n",
    "\n",
    "writer.add_scalar(\"Stats/mean_accuracy\", mean_acc, epochs)\n",
    "writer.add_scalar(\"Stats/median_accuracy\", median_acc, epochs)\n",
    "writer.close()\n",
    "print(\"Done!\")"
   ]
  },
  {
   "cell_type": "code",
   "execution_count": 14,
   "id": "d72b181b",
   "metadata": {},
   "outputs": [
    {
     "name": "stderr",
     "output_type": "stream",
     "text": [
      "WARNING: You are using pip version 22.0.4; however, version 25.1.1 is available.\n",
      "You should consider upgrading via the 'c:\\Users\\Absam\\Documents\\IIM M1\\ML-A4\\.venv\\Scripts\\python.exe -m pip install --upgrade pip' command.\n"
     ]
    },
    {
     "name": "stdout",
     "output_type": "stream",
     "text": [
      "Requirement already satisfied: onnx in c:\\users\\absam\\documents\\iim m1\\ml-a4\\.venv\\lib\\site-packages (1.18.0)\n",
      "Requirement already satisfied: typing_extensions>=4.7.1 in c:\\users\\absam\\documents\\iim m1\\ml-a4\\.venv\\lib\\site-packages (from onnx) (4.14.0)\n",
      "Requirement already satisfied: protobuf>=4.25.1 in c:\\users\\absam\\documents\\iim m1\\ml-a4\\.venv\\lib\\site-packages (from onnx) (6.31.1)\n",
      "Requirement already satisfied: numpy>=1.22 in c:\\users\\absam\\documents\\iim m1\\ml-a4\\.venv\\lib\\site-packages (from onnx) (2.0.2)\n",
      "Note: you may need to restart the kernel to use updated packages.\n",
      "Modèle exporté en mnist_cnn.onnx\n"
     ]
    }
   ],
   "source": [
    "\n",
    "%pip install onnx\n",
    "\n",
    "dummy_input = torch.randn(1, 1, 28, 28, device=device)\n",
    "torch.onnx.export(\n",
    "    model, \n",
    "    dummy_input, \n",
    "    \"mnist_cnn.onnx\",\n",
    "    input_names=[\"input\"], \n",
    "    output_names=[\"output\"], \n",
    "    dynamic_axes={\"input\": {0: \"batch_size\"}, \"output\": {0: \"batch_size\"}},\n",
    "    opset_version=11\n",
    ")\n",
    "print(\"Modèle exporté en mnist_cnn.onnx\")\n"
   ]
  }
 ],
 "metadata": {
  "kernelspec": {
   "display_name": ".venv",
   "language": "python",
   "name": "python3"
  },
  "language_info": {
   "codemirror_mode": {
    "name": "ipython",
    "version": 3
   },
   "file_extension": ".py",
   "mimetype": "text/x-python",
   "name": "python",
   "nbconvert_exporter": "python",
   "pygments_lexer": "ipython3",
   "version": "3.9.13"
  }
 },
 "nbformat": 4,
 "nbformat_minor": 5
}
